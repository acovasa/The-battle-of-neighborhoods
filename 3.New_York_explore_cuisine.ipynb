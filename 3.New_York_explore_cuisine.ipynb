{
 "cells": [
  {
   "cell_type": "code",
   "execution_count": null,
   "metadata": {},
   "outputs": [],
   "source": [
    "import numpy as np # library to handle data in a vectorized manner\n",
    "import pandas as pd # library for data analsysis\n",
    "from PIL import Image # converting images into arrays\n",
    "\n",
    "%matplotlib inline\n",
    "\n",
    "import matplotlib as mpl\n",
    "import matplotlib.pyplot as plt\n",
    "\n",
    "mpl.style.use('ggplot') # optional: for ggplot-like style\n",
    "\n",
    "# check for latest version of Matplotlib\n",
    "print ('Matplotlib version: ', mpl.__version__) # >= 2.0.0\n",
    "\n",
    "# install wordcloud\n",
    "!conda install -c conda-forge wordcloud==1.4.1 --yes\n",
    "\n",
    "# import package and its set of stopwords\n",
    "from wordcloud import WordCloud, STOPWORDS\n",
    "\n",
    "print ('Wordcloud is installed and imported!')"
   ]
  },
  {
   "cell_type": "code",
   "execution_count": null,
   "metadata": {},
   "outputs": [],
   "source": [
    "# Fetch the file\n",
    "\n",
    "# my_file = project.get_file(\"url\")\n",
    "\n",
    "# import libraries\n",
    "\n",
    "from bs4 import BeautifulSoup\n",
    "import pandas as pd\n",
    "import requests\n",
    "\n",
    "#specify the url\n",
    "\n",
    "url='https://en.wikipedia.org/wiki/Cuisine_of_New_York_City'\n",
    "\n",
    "\n",
    "response=requests.get(url)\n",
    "soup=BeautifulSoup(response.content,'html.parser')\n",
    "columns=['Borough','Neighborhood','Cuisine']\n",
    "\n",
    "df= pd.DataFrame(columns=columns)\n",
    "table=soup.find('table',attrs={'class':'mediawiki ltr sitedir-ltr mw-hide-empty-elt ns-0 ns-subject mw-editable page-Cuisine_of_New_York_City rootpage-Cuisine_of_New_York_City skin-vector action-edit'}).tbody\n",
    "trs=table.find_all('tr')\n",
    "\n",
    "\n",
    "for tr in trs:\n",
    "    tds=tr.find_all('td')\n",
    "    row=[td.text.replace('\\n','') for td in tds]\n",
    "    df=df.append(pd.series(row,index=columns),ignore_index=True)\n",
    "    df.to_csv('NYC_CUISINE.csv',index=False)\n",
    "    \n",
    "\n",
    "\n",
    "print(urltext.text)\n",
    "\n",
    "\n",
    "\n",
    "#my_file = project.get_file(url)\n",
    "# query the website and return the html to the variable ‘page’\n",
    "\n",
    "\n",
    "# parse the html using beautiful soup and store in variable `soup`\n",
    "#soup = BeautifulSoup(page, \"html.parser\")\n",
    "#response = requests.get\n",
    "\n",
    "# Read the CSV data file from the object storage into a pandas DataFrame\n",
    "#my_file.seek(0)\n",
    "#import pandas as pd\n",
    "#NYC_CUISINE=pd.read_csv(my_file)\n",
    "#NYC_CUISINE.drop(NYC_CUISINE.columns[[3,4,5,6,7]], axis=1,inplace=True) \n",
    "#NYC_CUISINE.head()\n",
    "\n",
    "\n",
    "#import csv\n",
    "#from datetime import datetime\n",
    "\n",
    "\n",
    "#htmltables = get_tables(htmldocument)\n",
    "#for table in htmltables:\n",
    "  #  array=make_array(table)\n",
    "    \n",
    "# open a csv file with append, so old data will not be erased\n",
    "#with open(‘NYC_CUISINE.csv’, ‘a’) as csv_file:\n",
    " #writer = csv.writer(csv_file)\n",
    " #writer.writerow([name, price, datetime.now()])\n"
   ]
  },
  {
   "cell_type": "code",
   "execution_count": null,
   "metadata": {},
   "outputs": [],
   "source": [
    "import pandas as pd\n",
    "\n",
    "import os.path\n",
    "\n",
    "import rope.base.project\n",
    "import rope.base.pycore\n",
    "from rope.base import pyobjectsdef\n",
    "from rope.base import utils\n",
    "from rope.base import taskhandle\n",
    "\n",
    "import pandas as pd\n",
    "import csv\n",
    "import urllib.request\n",
    "import io\n",
    "import requests\n",
    "\n",
    "\n",
    "url=\"https://raw.githubusercontent.com/acovasa/Data/master/NYC_CUISINE2.csv\"\n",
    "\n",
    "\n",
    "\n",
    "\n",
    "# Read the CSV data file from the object storage into a pandas DataFrame\n",
    "\n",
    "\n",
    "NYC_CUISINE=requests.get(url).content\n",
    "NYC_CUISINE\n",
    "\n",
    "my_dict = { 'Borough' : [\"The Bronx\",\n",
    "                         \"The Bronx\",\n",
    "                         \"The Bronx\", \n",
    "                         \"The Bronx\",\n",
    "                         \"The Bronx\",\n",
    "                         \"The Bronx\", \n",
    "                         \"The Bronx\",\n",
    "                         \"Queens\",\n",
    "                         \"Queens\",\n",
    "                         \"Queens\",\n",
    "                         \"Queens\",\n",
    "                         \"Queens\",\n",
    "                         \"Queens\",\n",
    "                         \"Queens\",\n",
    "                         \"Queens\",\n",
    "                         \"Queens\",\n",
    "                         \"Queens\",\n",
    "                         \"Queens\",\n",
    "                         \"Queens\"],\n",
    "                   'Neighborhood' : [\"Bedford Park\",\n",
    "                                     \"Belmont\", \n",
    "                                     \"City Island\",\n",
    "                                     \"Morris Park\",\n",
    "                                     \"Norwood\", \n",
    "                                     \"Riverdale\",\n",
    "                                     \"South Bronx\",\n",
    "                                     \"Astoria\",\n",
    "                                     \"Bellerose\",\n",
    "                                     \"Flushing \",\n",
    "                                     \"Forest Hills, Kew Gardens Hills, Rego Park\",\n",
    "                                     \"Howard Beach, Ozone Park \",\n",
    "                                     \"Glendale \",\n",
    "                                     \"Jackson Heights \",\n",
    "                                     \"Jamaica\",\n",
    "                                    \"Little Neck\",\n",
    "                                     \"Richmond Hill \",\n",
    "                                     \"The Rockaways\",\n",
    "                                     \"Woodhaven \",\n",
    "                                     \"Woodside\"],\n",
    "                   'Cuisine': [\"Mexican, Puerto Ran, Dominican, Korean\", \n",
    "                               \"Italian, Albanian\", \n",
    "                               \"Italian, Seafood\",\n",
    "                               \"Filipino\",\n",
    "                               \"Jewish\", \n",
    "                               \"Puerto Rican, Dominican\",\n",
    "                    \n",
    "                              \"Greek, Italian, Eastern European, Brazilian, Egyptian and other Arabic\",\n",
    "                              \"Indian and Pakistani\",\n",
    "                               \"Chinese and Korean\",\n",
    "                               \"Jewish, Russian and Uzbek\",\n",
    "                               \"German and Polish\",\n",
    "                               \"Indian, Pakistani, Bangladeshi, Colombian, Ecuadorian, Peruvian, Korean, Filipino and Mexican\"\n",
    "                               \"Bangladeshi, Caribbean, African-American, African, Creole\",\n",
    "                               \" Arab, Chinese, and Italian\",\n",
    "                               \"Indian, Guyanese, West Indian, Pakistani, Bangladeshi\",\n",
    "                              \"Irish, Jewish\",\n",
    "                               \"Irish, Dominican, Mexican, Guyanese\",\n",
    "                               \"Filipino, Irish, Mexican and Romanian\"]}\n",
    "df = pd.DataFrame(my_dict)\n",
    "df\n",
    "\n",
    "#df = pd.read_csv('NYC_CUISINE.csv')\n",
    "\n",
    "#print (df)"
   ]
  },
  {
   "cell_type": "code",
   "execution_count": null,
   "metadata": {},
   "outputs": [],
   "source": [
    "print(df.Borough.unique())"
   ]
  },
  {
   "cell_type": "code",
   "execution_count": null,
   "metadata": {},
   "outputs": [],
   "source": [
    "df['Borough'].value_counts().to_frame()"
   ]
  },
  {
   "cell_type": "code",
   "execution_count": null,
   "metadata": {},
   "outputs": [],
   "source": [
    "CUISINE_WC = df[['Cuisine']]\n",
    "CUISINE_WC"
   ]
  },
  {
   "cell_type": "code",
   "execution_count": null,
   "metadata": {},
   "outputs": [],
   "source": [
    "CUISINE_WC.to_csv('CUISINE_WC.txt', sep=',', index=False)"
   ]
  },
  {
   "cell_type": "code",
   "execution_count": null,
   "metadata": {},
   "outputs": [],
   "source": [
    "CUISINE_WC1 = open('CUISINE_WC.txt', 'r').read()"
   ]
  },
  {
   "cell_type": "code",
   "execution_count": null,
   "metadata": {},
   "outputs": [],
   "source": [
    "stopwords = set(STOPWORDS)"
   ]
  },
  {
   "cell_type": "code",
   "execution_count": null,
   "metadata": {},
   "outputs": [],
   "source": [
    "# instantiate a word cloud object\n",
    "NYC_CUISINE_WC = WordCloud(\n",
    "    background_color='white',\n",
    "    max_words=2000,\n",
    "    stopwords=stopwords\n",
    ")\n",
    "\n",
    "# generate the word cloud\n",
    "NYC_CUISINE_WC.generate(CUISINE_WC1)"
   ]
  },
  {
   "cell_type": "code",
   "execution_count": null,
   "metadata": {},
   "outputs": [],
   "source": [
    "# display the word cloud\n",
    "plt.imshow(NYC_CUISINE_WC, interpolation='bilinear')\n",
    "plt.axis('off')\n",
    "\n",
    "fig = plt.figure()\n",
    "fig.set_figwidth(30)\n",
    "fig.set_figheight(45)\n",
    "\n",
    "plt.show()\n"
   ]
  },
  {
   "cell_type": "code",
   "execution_count": null,
   "metadata": {},
   "outputs": [],
   "source": [
    "Brooklyn_data = df[df['Borough'] == 'Brooklyn'].reset_index(drop=True)\n",
    "Brooklyn_data.head()"
   ]
  },
  {
   "cell_type": "code",
   "execution_count": null,
   "metadata": {},
   "outputs": [],
   "source": [
    "BR_CUISINE_WC = Brooklyn_data[['Cuisine']]\n",
    "BR_CUISINE_WC"
   ]
  },
  {
   "cell_type": "code",
   "execution_count": null,
   "metadata": {},
   "outputs": [],
   "source": [
    "BR_CUISINE_WC.to_csv('BR_CUISINE.txt', sep=',', index=False)"
   ]
  },
  {
   "cell_type": "code",
   "execution_count": null,
   "metadata": {},
   "outputs": [],
   "source": [
    "BR_CUISINE_WC = open('BR_CUISINE.txt', 'r').read()"
   ]
  },
  {
   "cell_type": "code",
   "execution_count": null,
   "metadata": {},
   "outputs": [],
   "source": [
    "stopwords = set(STOPWORDS)"
   ]
  },
  {
   "cell_type": "code",
   "execution_count": null,
   "metadata": {},
   "outputs": [],
   "source": [
    "# instantiate a word cloud object\n",
    "BR_CUISINE_NYC = WordCloud(\n",
    "    background_color='white',\n",
    "    max_words=2000,\n",
    "    stopwords=stopwords\n",
    ")\n",
    "\n",
    "# generate the word cloud\n",
    "BR_CUISINE_NYC.generate(BR_CUISINE_WC)"
   ]
  },
  {
   "cell_type": "code",
   "execution_count": null,
   "metadata": {},
   "outputs": [],
   "source": [
    "# display the word cloud\n",
    "plt.imshow(BR_CUISINE_NYC, interpolation='bilinear')\n",
    "plt.axis('off')\n",
    "\n",
    "fig = plt.figure()\n",
    "fig.set_figwidth(30)\n",
    "fig.set_figheight(45)\n",
    "\n",
    "plt.show()"
   ]
  },
  {
   "cell_type": "code",
   "execution_count": null,
   "metadata": {},
   "outputs": [],
   "source": [
    "Queens_data = NYC_CUISINE[NYC_CUISINE['Borough'] == 'Queens'].reset_index(drop=True)\n",
    "Queens_data.head()"
   ]
  },
  {
   "cell_type": "code",
   "execution_count": null,
   "metadata": {},
   "outputs": [],
   "source": [
    "Q_CUISINE_WC = Queens_data[['Cuisine']]\n",
    "Q_CUISINE_WC"
   ]
  },
  {
   "cell_type": "code",
   "execution_count": null,
   "metadata": {},
   "outputs": [],
   "source": [
    "Q_CUISINE_WC.to_csv('Q_CUISINE.txt', sep=',', index=False)"
   ]
  },
  {
   "cell_type": "code",
   "execution_count": null,
   "metadata": {},
   "outputs": [],
   "source": [
    "Q_CUISINE_WC = open('Q_CUISINE.txt', 'r').read()"
   ]
  },
  {
   "cell_type": "code",
   "execution_count": null,
   "metadata": {},
   "outputs": [],
   "source": [
    "stopwords = set(STOPWORDS)"
   ]
  },
  {
   "cell_type": "code",
   "execution_count": null,
   "metadata": {},
   "outputs": [],
   "source": [
    "# instantiate a word cloud object\n",
    "Q_CUISINE_NYC = WordCloud(\n",
    "    background_color='white',\n",
    "    max_words=2000,\n",
    "    stopwords=stopwords\n",
    ")\n",
    "\n",
    "# generate the word cloud\n",
    "Q_CUISINE_NYC.generate(Q_CUISINE_WC)"
   ]
  },
  {
   "cell_type": "code",
   "execution_count": null,
   "metadata": {},
   "outputs": [],
   "source": [
    "# display the word cloud\n",
    "plt.imshow(Q_CUISINE_NYC, interpolation='bilinear')\n",
    "plt.axis('off')\n",
    "\n",
    "fig = plt.figure()\n",
    "fig.set_figwidth(30)\n",
    "fig.set_figheight(45)\n",
    "\n",
    "plt.show()\n"
   ]
  },
  {
   "cell_type": "code",
   "execution_count": null,
   "metadata": {},
   "outputs": [],
   "source": [
    "Manhattan_data = NYC_CUISINE[NYC_CUISINE['Borough'] == 'Manhattan'].reset_index(drop=True)\n",
    "Manhattan_data.head()"
   ]
  },
  {
   "cell_type": "code",
   "execution_count": null,
   "metadata": {},
   "outputs": [],
   "source": [
    "MN_CUISINE_WC = Manhattan_data[['Cuisine']]\n",
    "MN_CUISINE_WC"
   ]
  },
  {
   "cell_type": "code",
   "execution_count": null,
   "metadata": {},
   "outputs": [],
   "source": [
    "MN_CUISINE_WC.to_csv('MN_CUISINE.txt', sep=',', index=False)"
   ]
  },
  {
   "cell_type": "code",
   "execution_count": null,
   "metadata": {},
   "outputs": [],
   "source": [
    "MN_CUISINE_WC = open('MN_CUISINE.txt', 'r').read()"
   ]
  },
  {
   "cell_type": "code",
   "execution_count": null,
   "metadata": {},
   "outputs": [],
   "source": [
    "stopwords = set(STOPWORDS)"
   ]
  },
  {
   "cell_type": "code",
   "execution_count": null,
   "metadata": {},
   "outputs": [],
   "source": [
    "# instantiate a word cloud object\n",
    "MN_CUISINE_NYC = WordCloud(\n",
    "    background_color='white',\n",
    "    max_words=2000,\n",
    "    stopwords=stopwords\n",
    ")\n",
    "\n",
    "# generate the word cloud\n",
    "MN_CUISINE_NYC.generate(MN_CUISINE_WC)"
   ]
  },
  {
   "cell_type": "code",
   "execution_count": null,
   "metadata": {},
   "outputs": [],
   "source": [
    "# display the word cloud\n",
    "\n",
    "plt.imshow(MN_CUISINE_NYC, interpolation='bilinear')\n",
    "plt.axis('off')\n",
    "\n",
    "fig = plt.figure()\n",
    "fig.set_figwidth(30)\n",
    "fig.set_figheight(45)\n",
    "\n",
    "plt.show()"
   ]
  },
  {
   "cell_type": "code",
   "execution_count": null,
   "metadata": {},
   "outputs": [],
   "source": []
  },
  {
   "cell_type": "code",
   "execution_count": null,
   "metadata": {},
   "outputs": [],
   "source": []
  },
  {
   "cell_type": "code",
   "execution_count": null,
   "metadata": {},
   "outputs": [],
   "source": []
  },
  {
   "cell_type": "code",
   "execution_count": null,
   "metadata": {},
   "outputs": [],
   "source": [
    "\n"
   ]
  },
  {
   "cell_type": "code",
   "execution_count": null,
   "metadata": {},
   "outputs": [],
   "source": [
    "\n"
   ]
  },
  {
   "cell_type": "code",
   "execution_count": null,
   "metadata": {},
   "outputs": [],
   "source": []
  },
  {
   "cell_type": "code",
   "execution_count": null,
   "metadata": {},
   "outputs": [],
   "source": []
  }
 ],
 "metadata": {
  "kernelspec": {
   "display_name": "Python 3",
   "language": "python",
   "name": "python3"
  },
  "language_info": {
   "codemirror_mode": {
    "name": "ipython",
    "version": 3
   },
   "file_extension": ".py",
   "mimetype": "text/x-python",
   "name": "python",
   "nbconvert_exporter": "python",
   "pygments_lexer": "ipython3",
   "version": "3.6.8"
  }
 },
 "nbformat": 4,
 "nbformat_minor": 2
}
